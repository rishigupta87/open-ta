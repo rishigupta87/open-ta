{
 "cells": [
  {
   "cell_type": "code",
   "execution_count": null,
   "id": "crazy-leonard",
   "metadata": {},
   "outputs": [],
   "source": [
    "apikey = ''\n",
    "username = ''\n",
    "pwd = ''"
   ]
  },
  {
   "cell_type": "code",
   "execution_count": null,
   "id": "catholic-province",
   "metadata": {},
   "outputs": [],
   "source": [
    "#pip install --upgrade  smartapi-python==1.2.8"
   ]
  },
  {
   "cell_type": "code",
   "execution_count": null,
   "id": "surrounded-superintendent",
   "metadata": {},
   "outputs": [],
   "source": []
  },
  {
   "cell_type": "code",
   "execution_count": null,
   "id": "chronic-agency",
   "metadata": {},
   "outputs": [],
   "source": [
    "from smartapi import SmartConnect\n",
    "\n",
    "obj=SmartConnect(api_key=apikey)\n",
    "data = obj.generateSession(username,pwd)\n",
    "refreshToken= data['data']['refreshToken']\n",
    "feedToken=obj.getfeedToken()\n",
    "feedToken"
   ]
  },
  {
   "cell_type": "code",
   "execution_count": null,
   "id": "accompanied-improvement",
   "metadata": {
    "scrolled": true
   },
   "outputs": [],
   "source": [
    "from smartapi import SmartWebSocket\n",
    "\n",
    "# feed_token=092017047\n",
    "FEED_TOKEN=feedToken\n",
    "CLIENT_CODE=username\n",
    "# token=\"mcx_fo|224570\"\n",
    "token=\"mcx_fo|224570&nse_cm|2885&nse_fo|53179&cde_fo|7395\"   #SAMPLE: nse_cm|2885&nse_cm|1594&nse_cm|11536&nse_cm|3045\n",
    "# token=\"mcx_fo|226745&mcx_fo|220822&mcx_fo|227182&mcx_fo|221599\"\n",
    "task=\"mw\"   # mw|sfi|dp\n",
    "\n",
    "ss = SmartWebSocket(FEED_TOKEN, CLIENT_CODE)\n",
    "\n",
    "def on_message(ws, message):\n",
    "    print(\"Ticks: {}\".format(message))\n",
    "    \n",
    "def on_open(ws):\n",
    "    print(\"on open\")\n",
    "    ss.subscribe(task,token)\n",
    "    \n",
    "def on_error(ws, error):\n",
    "    print(error)\n",
    "    \n",
    "def on_close(ws):\n",
    "    print(\"Close\")\n",
    "\n",
    "# Assign the callbacks.\n",
    "ss._on_open = on_open\n",
    "ss._on_message = on_message\n",
    "ss._on_error = on_error\n",
    "ss._on_close = on_close\n",
    "\n",
    "ss.connect()"
   ]
  }
 ],
 "metadata": {
  "kernelspec": {
   "display_name": "myenv2",
   "language": "python",
   "name": "myenv2"
  },
  "language_info": {
   "codemirror_mode": {
    "name": "ipython",
    "version": 3
   },
   "file_extension": ".py",
   "mimetype": "text/x-python",
   "name": "python",
   "nbconvert_exporter": "python",
   "pygments_lexer": "ipython3",
   "version": "3.6.12"
  }
 },
 "nbformat": 4,
 "nbformat_minor": 5
}
